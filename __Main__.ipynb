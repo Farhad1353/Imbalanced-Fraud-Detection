{
 "cells": [
  {
   "cell_type": "code",
   "execution_count": 11,
   "metadata": {},
   "outputs": [],
   "source": [
    "import time                      # import libraries\n",
    "start_time = time.time()\n",
    "\n",
    "import numpy as np\n",
    "import pandas as pd\n",
    "import matplotlib.pyplot as plt\n",
    "import plotly.express as px\n",
    "import seaborn as sns\n",
    "import imblearn\n",
    "from imblearn.over_sampling import SMOTE\n",
    "import collections\n",
    "from tqdm import tqdm_notebook as tqdm\n",
    "\n",
    "from sklearn.preprocessing import StandardScaler      # import sklearn libraries\n",
    "from sklearn import datasets, model_selection\n",
    "from sklearn.metrics import plot_confusion_matrix, accuracy_score, precision_score, recall_score, f1_score, roc_auc_score, confusion_matrix,plot_roc_curve\n",
    "from sklearn.model_selection import train_test_split\n",
    "from sklearn.linear_model import LogisticRegression\n",
    "from sklearn.svm import SVC\n",
    "from sklearn.neighbors import KNeighborsClassifier\n",
    "from sklearn.tree import DecisionTreeClassifier\n",
    "from sklearn.ensemble import RandomForestClassifier, StackingClassifier\n",
    "from sklearn.naive_bayes import GaussianNB\n",
    "\n",
    "from xgboost import XGBClassifier                     # import non-sklearn algorithm libraries\n",
    "from lightgbm import LGBMClassifier\n",
    "from catboost import CatBoostClassifier\n"
   ]
  },
  {
   "cell_type": "code",
   "execution_count": 12,
   "metadata": {},
   "outputs": [
    {
     "output_type": "stream",
     "name": "stdout",
     "text": [
      "--- 1.0 seconds ---\n"
     ]
    }
   ],
   "source": [
    "df = pd.read_csv('./DATA/creditcard_train1.csv')     # import train csv files to dataframes\n",
    "df2 = pd.read_csv('./DATA/creditcard_train2.csv')\n",
    "df = pd.concat([df,df2[1:]])                        # merge the 2 dataframes\n",
    "del df2                                             # delete the one of the dataframes"
   ]
  },
  {
   "cell_type": "code",
   "execution_count": 13,
   "metadata": {},
   "outputs": [
    {
     "output_type": "execute_result",
     "data": {
      "text/plain": [
       "0"
      ]
     },
     "metadata": {},
     "execution_count": 13
    }
   ],
   "source": [
    "df.isnull().sum().sum()   # Check if there is any Nan in the dataframe"
   ]
  },
  {
   "cell_type": "code",
   "execution_count": 18,
   "metadata": {},
   "outputs": [
    {
     "output_type": "stream",
     "name": "stdout",
     "text": [
      "Time V1 V2 V3 V4 V5 V6 V7 V8 V9 V10 V11 V12 V13 V14 V15 V16 V17 V18 V19 V20 V21 V22 V23 V24 V25 V26 V27 V28 Amount Class \n\nTime V1 V2 V3 V4 V5 V6 V7 V8 V9 V10 V11 V12 V13 V14 V15 V16 V17 V18 V19 V20 V21 V22 V23 V24 V25 V26 V27 V28 Amount "
     ]
    }
   ],
   "source": [
    "features_list = df.columns.values.tolist()  # create a list for the name of all the features\n",
    "for list_idx in features_list:\n",
    "    print(list_idx, end=' ')               # printing the list of features and label\n",
    "features_list.pop()                        # deleting the list entity of the list as it is the label(not feature)\n",
    "print(\"\\n\")\n",
    "for list_idx in features_list:\n",
    "    print(list_idx, end=' ')               # printing the list of only features"
   ]
  },
  {
   "cell_type": "code",
   "execution_count": 19,
   "metadata": {},
   "outputs": [
    {
     "output_type": "execute_result",
     "data": {
      "text/plain": [
       "array([0, 1], dtype=int64)"
      ]
     },
     "metadata": {},
     "execution_count": 19
    }
   ],
   "source": [
    "df.Class.unique()  # ensuring the Class column is binary as expected"
   ]
  },
  {
   "cell_type": "code",
   "execution_count": 21,
   "metadata": {},
   "outputs": [
    {
     "output_type": "execute_result",
     "data": {
      "text/plain": [
       "Counter({False: 198998, True: 364})"
      ]
     },
     "metadata": {},
     "execution_count": 21
    }
   ],
   "source": [
    "df.Class=df.Class.astype(\"bool\")  # converting the Class label to boolean type from int64\n",
    "collections.Counter(df.Class)       # checking how inbalance is our data"
   ]
  },
  {
   "cell_type": "code",
   "execution_count": 22,
   "metadata": {},
   "outputs": [
    {
     "output_type": "execute_result",
     "data": {
      "text/plain": [
       "585"
      ]
     },
     "metadata": {},
     "execution_count": 22
    }
   ],
   "source": [
    "df.duplicated().sum()    # Check for duplication"
   ]
  },
  {
   "cell_type": "code",
   "execution_count": 24,
   "metadata": {},
   "outputs": [
    {
     "output_type": "execute_result",
     "data": {
      "text/plain": [
       "Counter({False: 198422, True: 355})"
      ]
     },
     "metadata": {},
     "execution_count": 24
    }
   ],
   "source": [
    "df.drop_duplicates(inplace = True)  # keeping only one of the duplication rows if there is any\n",
    "collections.Counter(df.Class)        # check again how our inbalance data looks like"
   ]
  },
  {
   "cell_type": "code",
   "execution_count": 25,
   "metadata": {},
   "outputs": [
    {
     "output_type": "stream",
     "name": "stdout",
     "text": [
      "Number of fraud Transactions is  355  which is  0.179 % of the dataset.\n\nNumber of clean Transactions is  198422  which is  99.821 % of the dataset.\n"
     ]
    }
   ],
   "source": [
    "fraud_count = df.Class[df[\"Class\"]==True].count() # splittig the dataframe to fraud and clean transactions dataframes\n",
    "clean_count = len(df) - fraud_count\n",
    "print('Number of fraud Transactions is ', fraud_count ,' which is ', round(100*fraud_count/len(df),3) , \"% of the dataset.\\n\")\n",
    "print('Number of clean Transactions is ', clean_count ,' which is ', round(100*clean_count/len(df),3) , \"% of the dataset.\")"
   ]
  },
  {
   "cell_type": "code",
   "execution_count": 27,
   "metadata": {},
   "outputs": [],
   "source": [
    "df_label=df[\"Class\"]                    # creating a label only dataframe\n",
    "df_features = df.drop(\"Class\", axis=1)   # creating a feature only dataframe"
   ]
  },
  {
   "cell_type": "code",
   "execution_count": 28,
   "metadata": {},
   "outputs": [],
   "source": [
    "# Separating the train and validation sets for both labels and feautures\n",
    "X_train, X_val, Y_train, Y_val = train_test_split(df_features, df_label, test_size=0.33, random_state=42)"
   ]
  },
  {
   "cell_type": "code",
   "execution_count": 30,
   "metadata": {},
   "outputs": [
    {
     "output_type": "execute_result",
     "data": {
      "text/plain": [
       "                Time             V1             V2             V3  \\\n",
       "count  198777.000000  198777.000000  198777.000000  198777.000000   \n",
       "mean    94804.312295       0.009128      -0.002808      -0.001230   \n",
       "std     47505.945585       1.945998       1.634265       1.513868   \n",
       "min         0.000000     -56.407510     -72.715728     -48.325589   \n",
       "25%     54213.000000      -0.914367      -0.600632      -0.891180   \n",
       "50%     84650.000000       0.025907       0.063052       0.177015   \n",
       "75%    139333.000000       1.317510       0.798376       1.024675   \n",
       "max    172792.000000       2.454930      22.057729       9.382558   \n",
       "\n",
       "                  V4             V5             V6             V7  \\\n",
       "count  198777.000000  198777.000000  198777.000000  198777.000000   \n",
       "mean       -0.002365      -0.002014       0.002832       0.001295   \n",
       "std         1.415270       1.386037       1.335744       1.243473   \n",
       "min        -5.683171    -113.743307     -26.160506     -43.557242   \n",
       "25%        -0.848943      -0.691728      -0.768274      -0.554928   \n",
       "50%        -0.022399      -0.054543      -0.273589       0.038361   \n",
       "75%         0.739895       0.611792       0.398343       0.567914   \n",
       "max        16.875344      34.801666      73.301626     120.589494   \n",
       "\n",
       "                  V8             V9  ...            V20            V21  \\\n",
       "count  198777.000000  198777.000000  ...  198777.000000  198777.000000   \n",
       "mean       -0.001479       0.001572  ...      -0.000200      -0.000324   \n",
       "std         1.177720       1.099267  ...       0.769537       0.725705   \n",
       "min       -50.688419     -13.434066  ...     -54.497720     -22.889347   \n",
       "25%        -0.208845      -0.642858  ...      -0.211763      -0.228663   \n",
       "50%         0.021971      -0.049979  ...      -0.062789      -0.030281   \n",
       "75%         0.325913       0.599765  ...       0.131815       0.185224   \n",
       "max        20.007208      15.594995  ...      38.117209      27.202839   \n",
       "\n",
       "                 V22            V23            V24            V25  \\\n",
       "count  198777.000000  198777.000000  198777.000000  198777.000000   \n",
       "mean       -0.001453      -0.000254       0.000687      -0.000352   \n",
       "std         0.724582       0.631072       0.605287       0.521072   \n",
       "min        -9.499423     -44.807735      -2.824849     -10.295397   \n",
       "25%        -0.542464      -0.161780      -0.354038      -0.317835   \n",
       "50%         0.006057      -0.010666       0.041286       0.015550   \n",
       "75%         0.526075       0.148339       0.440253       0.350490   \n",
       "max         8.361985      22.083545       4.584549       7.519589   \n",
       "\n",
       "                 V26            V27            V28         Amount  \n",
       "count  198777.000000  198777.000000  198777.000000  198777.000000  \n",
       "mean        0.000263       0.001165       0.000728      88.854125  \n",
       "std         0.482129       0.399762       0.328130     253.999620  \n",
       "min        -2.604551     -22.565679     -15.430084       0.000000  \n",
       "25%        -0.326248      -0.070785      -0.052444       5.510000  \n",
       "50%        -0.052173       0.001340       0.011317      22.000000  \n",
       "75%         0.240273       0.090650       0.078043      77.070000  \n",
       "max         3.517346      31.612198      33.847808   25691.160000  \n",
       "\n",
       "[8 rows x 30 columns]"
      ],
      "text/html": "<div>\n<style scoped>\n    .dataframe tbody tr th:only-of-type {\n        vertical-align: middle;\n    }\n\n    .dataframe tbody tr th {\n        vertical-align: top;\n    }\n\n    .dataframe thead th {\n        text-align: right;\n    }\n</style>\n<table border=\"1\" class=\"dataframe\">\n  <thead>\n    <tr style=\"text-align: right;\">\n      <th></th>\n      <th>Time</th>\n      <th>V1</th>\n      <th>V2</th>\n      <th>V3</th>\n      <th>V4</th>\n      <th>V5</th>\n      <th>V6</th>\n      <th>V7</th>\n      <th>V8</th>\n      <th>V9</th>\n      <th>...</th>\n      <th>V20</th>\n      <th>V21</th>\n      <th>V22</th>\n      <th>V23</th>\n      <th>V24</th>\n      <th>V25</th>\n      <th>V26</th>\n      <th>V27</th>\n      <th>V28</th>\n      <th>Amount</th>\n    </tr>\n  </thead>\n  <tbody>\n    <tr>\n      <th>count</th>\n      <td>198777.000000</td>\n      <td>198777.000000</td>\n      <td>198777.000000</td>\n      <td>198777.000000</td>\n      <td>198777.000000</td>\n      <td>198777.000000</td>\n      <td>198777.000000</td>\n      <td>198777.000000</td>\n      <td>198777.000000</td>\n      <td>198777.000000</td>\n      <td>...</td>\n      <td>198777.000000</td>\n      <td>198777.000000</td>\n      <td>198777.000000</td>\n      <td>198777.000000</td>\n      <td>198777.000000</td>\n      <td>198777.000000</td>\n      <td>198777.000000</td>\n      <td>198777.000000</td>\n      <td>198777.000000</td>\n      <td>198777.000000</td>\n    </tr>\n    <tr>\n      <th>mean</th>\n      <td>94804.312295</td>\n      <td>0.009128</td>\n      <td>-0.002808</td>\n      <td>-0.001230</td>\n      <td>-0.002365</td>\n      <td>-0.002014</td>\n      <td>0.002832</td>\n      <td>0.001295</td>\n      <td>-0.001479</td>\n      <td>0.001572</td>\n      <td>...</td>\n      <td>-0.000200</td>\n      <td>-0.000324</td>\n      <td>-0.001453</td>\n      <td>-0.000254</td>\n      <td>0.000687</td>\n      <td>-0.000352</td>\n      <td>0.000263</td>\n      <td>0.001165</td>\n      <td>0.000728</td>\n      <td>88.854125</td>\n    </tr>\n    <tr>\n      <th>std</th>\n      <td>47505.945585</td>\n      <td>1.945998</td>\n      <td>1.634265</td>\n      <td>1.513868</td>\n      <td>1.415270</td>\n      <td>1.386037</td>\n      <td>1.335744</td>\n      <td>1.243473</td>\n      <td>1.177720</td>\n      <td>1.099267</td>\n      <td>...</td>\n      <td>0.769537</td>\n      <td>0.725705</td>\n      <td>0.724582</td>\n      <td>0.631072</td>\n      <td>0.605287</td>\n      <td>0.521072</td>\n      <td>0.482129</td>\n      <td>0.399762</td>\n      <td>0.328130</td>\n      <td>253.999620</td>\n    </tr>\n    <tr>\n      <th>min</th>\n      <td>0.000000</td>\n      <td>-56.407510</td>\n      <td>-72.715728</td>\n      <td>-48.325589</td>\n      <td>-5.683171</td>\n      <td>-113.743307</td>\n      <td>-26.160506</td>\n      <td>-43.557242</td>\n      <td>-50.688419</td>\n      <td>-13.434066</td>\n      <td>...</td>\n      <td>-54.497720</td>\n      <td>-22.889347</td>\n      <td>-9.499423</td>\n      <td>-44.807735</td>\n      <td>-2.824849</td>\n      <td>-10.295397</td>\n      <td>-2.604551</td>\n      <td>-22.565679</td>\n      <td>-15.430084</td>\n      <td>0.000000</td>\n    </tr>\n    <tr>\n      <th>25%</th>\n      <td>54213.000000</td>\n      <td>-0.914367</td>\n      <td>-0.600632</td>\n      <td>-0.891180</td>\n      <td>-0.848943</td>\n      <td>-0.691728</td>\n      <td>-0.768274</td>\n      <td>-0.554928</td>\n      <td>-0.208845</td>\n      <td>-0.642858</td>\n      <td>...</td>\n      <td>-0.211763</td>\n      <td>-0.228663</td>\n      <td>-0.542464</td>\n      <td>-0.161780</td>\n      <td>-0.354038</td>\n      <td>-0.317835</td>\n      <td>-0.326248</td>\n      <td>-0.070785</td>\n      <td>-0.052444</td>\n      <td>5.510000</td>\n    </tr>\n    <tr>\n      <th>50%</th>\n      <td>84650.000000</td>\n      <td>0.025907</td>\n      <td>0.063052</td>\n      <td>0.177015</td>\n      <td>-0.022399</td>\n      <td>-0.054543</td>\n      <td>-0.273589</td>\n      <td>0.038361</td>\n      <td>0.021971</td>\n      <td>-0.049979</td>\n      <td>...</td>\n      <td>-0.062789</td>\n      <td>-0.030281</td>\n      <td>0.006057</td>\n      <td>-0.010666</td>\n      <td>0.041286</td>\n      <td>0.015550</td>\n      <td>-0.052173</td>\n      <td>0.001340</td>\n      <td>0.011317</td>\n      <td>22.000000</td>\n    </tr>\n    <tr>\n      <th>75%</th>\n      <td>139333.000000</td>\n      <td>1.317510</td>\n      <td>0.798376</td>\n      <td>1.024675</td>\n      <td>0.739895</td>\n      <td>0.611792</td>\n      <td>0.398343</td>\n      <td>0.567914</td>\n      <td>0.325913</td>\n      <td>0.599765</td>\n      <td>...</td>\n      <td>0.131815</td>\n      <td>0.185224</td>\n      <td>0.526075</td>\n      <td>0.148339</td>\n      <td>0.440253</td>\n      <td>0.350490</td>\n      <td>0.240273</td>\n      <td>0.090650</td>\n      <td>0.078043</td>\n      <td>77.070000</td>\n    </tr>\n    <tr>\n      <th>max</th>\n      <td>172792.000000</td>\n      <td>2.454930</td>\n      <td>22.057729</td>\n      <td>9.382558</td>\n      <td>16.875344</td>\n      <td>34.801666</td>\n      <td>73.301626</td>\n      <td>120.589494</td>\n      <td>20.007208</td>\n      <td>15.594995</td>\n      <td>...</td>\n      <td>38.117209</td>\n      <td>27.202839</td>\n      <td>8.361985</td>\n      <td>22.083545</td>\n      <td>4.584549</td>\n      <td>7.519589</td>\n      <td>3.517346</td>\n      <td>31.612198</td>\n      <td>33.847808</td>\n      <td>25691.160000</td>\n    </tr>\n  </tbody>\n</table>\n<p>8 rows × 30 columns</p>\n</div>"
     },
     "metadata": {},
     "execution_count": 30
    }
   ],
   "source": [
    "df.describe() # check the description of all the numeric features(which are all the features) "
   ]
  },
  {
   "cell_type": "code",
   "execution_count": 31,
   "metadata": {},
   "outputs": [],
   "source": [
    "scalar = StandardScaler()   # Standardising Time and Amount in traning dataframe\n",
    "X_val[['Time', 'Amount']] = scalar.fit_transform(X_val[['Time', 'Amount']])\n",
    "\n",
    "scalar = StandardScaler()   #  Standardising Time and Amount in validation dataframe\n",
    "X_val[['Time', 'Amount']] = scalar.fit_transform(X_val[['Time', 'Amount']])"
   ]
  },
  {
   "cell_type": "code",
   "execution_count": 32,
   "metadata": {},
   "outputs": [],
   "source": [
    "df_train = pd.DataFrame(X_train, copy = True)  # creating a training dataframe for with all the features and label\n",
    "df_train[\"Class\"]=Y_train"
   ]
  },
  {
   "cell_type": "code",
   "execution_count": null,
   "metadata": {},
   "outputs": [],
   "source": []
  }
 ],
 "metadata": {
  "kernelspec": {
   "display_name": "Python 3",
   "language": "python",
   "name": "python3"
  },
  "language_info": {
   "codemirror_mode": {
    "name": "ipython",
    "version": 3
   },
   "file_extension": ".py",
   "mimetype": "text/x-python",
   "name": "python",
   "nbconvert_exporter": "python",
   "pygments_lexer": "ipython3",
   "version": "3.7.0-final"
  }
 },
 "nbformat": 4,
 "nbformat_minor": 4
}